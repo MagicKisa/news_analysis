{
 "cells": [
  {
   "cell_type": "code",
   "execution_count": 1,
   "id": "6d1fd931-cc9d-4ebe-a005-e5a1a603a393",
   "metadata": {},
   "outputs": [],
   "source": [
    "import pandas as pd"
   ]
  },
  {
   "cell_type": "code",
   "execution_count": 2,
   "id": "b381e42d-98c9-4bb0-aa4d-f9a544d053cc",
   "metadata": {},
   "outputs": [],
   "source": [
    "df = pd.read_csv('lenta_news.csv', encoding='utf8')"
   ]
  },
  {
   "cell_type": "code",
   "execution_count": 3,
   "id": "48530459-d481-404a-9861-6f9cf69ec841",
   "metadata": {},
   "outputs": [
    {
     "data": {
      "text/html": [
       "<div>\n",
       "<style scoped>\n",
       "    .dataframe tbody tr th:only-of-type {\n",
       "        vertical-align: middle;\n",
       "    }\n",
       "\n",
       "    .dataframe tbody tr th {\n",
       "        vertical-align: top;\n",
       "    }\n",
       "\n",
       "    .dataframe thead th {\n",
       "        text-align: right;\n",
       "    }\n",
       "</style>\n",
       "<table border=\"1\" class=\"dataframe\">\n",
       "  <thead>\n",
       "    <tr style=\"text-align: right;\">\n",
       "      <th></th>\n",
       "      <th>content</th>\n",
       "      <th>description</th>\n",
       "      <th>title</th>\n",
       "      <th>publishedAt</th>\n",
       "      <th>categories</th>\n",
       "      <th>authorLink</th>\n",
       "      <th>url</th>\n",
       "    </tr>\n",
       "  </thead>\n",
       "  <tbody>\n",
       "    <tr>\n",
       "      <th>0</th>\n",
       "      <td>Президент Гильдии киноведов и кинокритиков Рос...</td>\n",
       "      <td>Президент Гильдии киноведов и кинокритиков Рос...</td>\n",
       "      <td>Назван главный российский фильм 2018 года</td>\n",
       "      <td>2019-01-01T00:42:50+03:00</td>\n",
       "      <td>['Кино', 'Культура']</td>\n",
       "      <td>https://lenta.ru/</td>\n",
       "      <td>https://lenta.ru/news/2019/01/01/film/</td>\n",
       "    </tr>\n",
       "    <tr>\n",
       "      <th>1</th>\n",
       "      <td>В Парке Горького в Москве обрушился мост с люд...</td>\n",
       "      <td>В Парке Горького в Москве обрушился мост с люд...</td>\n",
       "      <td>В Парке Горького обрушился мост с людьми</td>\n",
       "      <td>2019-01-01T00:54:00+03:00</td>\n",
       "      <td>['Происшествия', 'Россия']</td>\n",
       "      <td>https://lenta.ru/</td>\n",
       "      <td>https://lenta.ru/news/2019/01/01/most/</td>\n",
       "    </tr>\n",
       "    <tr>\n",
       "      <th>2</th>\n",
       "      <td>Определена причина обрушения моста над катком ...</td>\n",
       "      <td>Обрушение моста над катком в Парке Горького в ...</td>\n",
       "      <td>Определена причина обрушения моста в Парке Гор...</td>\n",
       "      <td>2019-01-01T01:30:00+03:00</td>\n",
       "      <td>['Происшествия', 'Россия']</td>\n",
       "      <td>https://lenta.ru/</td>\n",
       "      <td>https://lenta.ru/news/2019/01/01/most_2/</td>\n",
       "    </tr>\n",
       "    <tr>\n",
       "      <th>3</th>\n",
       "      <td>Ведущий украинского комедийного шоу «Вечерний ...</td>\n",
       "      <td>Ведущий украинского комедийного шоу «Вечерний ...</td>\n",
       "      <td>Украинский комик поборется за президентский пост</td>\n",
       "      <td>2019-01-01T02:12:28+03:00</td>\n",
       "      <td>['Украина', 'Бывший СССР']</td>\n",
       "      <td>https://lenta.ru/</td>\n",
       "      <td>https://lenta.ru/news/2019/01/01/zelenskiy/</td>\n",
       "    </tr>\n",
       "    <tr>\n",
       "      <th>4</th>\n",
       "      <td>Вооруженный ножом мужчина ранил трех человек н...</td>\n",
       "      <td>Вооруженный ножом мужчина ранил трех человек н...</td>\n",
       "      <td>Трех британцев порезали ножом на вокзале</td>\n",
       "      <td>2019-01-01T03:11:00+03:00</td>\n",
       "      <td>['Происшествия', 'Мир']</td>\n",
       "      <td>https://lenta.ru/</td>\n",
       "      <td>https://lenta.ru/news/2019/01/01/knife/</td>\n",
       "    </tr>\n",
       "    <tr>\n",
       "      <th>...</th>\n",
       "      <td>...</td>\n",
       "      <td>...</td>\n",
       "      <td>...</td>\n",
       "      <td>...</td>\n",
       "      <td>...</td>\n",
       "      <td>...</td>\n",
       "      <td>...</td>\n",
       "    </tr>\n",
       "    <tr>\n",
       "      <th>583276</th>\n",
       "      <td>Лидер фракции партии «Слуга народа» в Верховно...</td>\n",
       "      <td>Глава фракции партии «Слуга народа» в Верховно...</td>\n",
       "      <td>На Украине опровергли отправку на доработку за...</td>\n",
       "      <td>2024-01-10T23:10:00+03:00</td>\n",
       "      <td>['Украина', 'Бывший СССР']</td>\n",
       "      <td>https://lenta.ru/parts/authors/sovina/</td>\n",
       "      <td>https://lenta.ru/news/2024/01/10/arahamia_/</td>\n",
       "    </tr>\n",
       "    <tr>\n",
       "      <th>583277</th>\n",
       "      <td>Министр сельского и лесного хозяйства Финлянди...</td>\n",
       "      <td>Министр сельского и лесного хозяйства Финлянди...</td>\n",
       "      <td>Финляндия продлила закрытие границы с Россией ...</td>\n",
       "      <td>2024-01-10T23:35:00+03:00</td>\n",
       "      <td>['Мир', 'Путешествия']</td>\n",
       "      <td>https://lenta.ru/parts/authors/sovina/</td>\n",
       "      <td>https://lenta.ru/news/2024/01/10/border/</td>\n",
       "    </tr>\n",
       "    <tr>\n",
       "      <th>583278</th>\n",
       "      <td>Официальный представитель МИД России Мария Зах...</td>\n",
       "      <td>Официальный представитель МИД России Мария Зах...</td>\n",
       "      <td>Захарова назвала лицемерием подготовку Украины...</td>\n",
       "      <td>2024-01-10T23:41:00+03:00</td>\n",
       "      <td>['Политика', 'Мир']</td>\n",
       "      <td>https://lenta.ru/parts/authors/sovina/</td>\n",
       "      <td>https://lenta.ru/news/2024/01/10/zaharova-nazv...</td>\n",
       "    </tr>\n",
       "    <tr>\n",
       "      <th>583279</th>\n",
       "      <td>Планы Молдавии оказать содействие в подготовке...</td>\n",
       "      <td>В МИД России заявили, что планы Молдавии оказа...</td>\n",
       "      <td>МИД России вызвал посла Молдавии из-за Украины</td>\n",
       "      <td>2024-01-10T23:42:00+03:00</td>\n",
       "      <td>['Политика', 'Мир']</td>\n",
       "      <td>https://lenta.ru/parts/authors/sovina/</td>\n",
       "      <td>https://lenta.ru/news/2024/01/10/moldavia_/</td>\n",
       "    </tr>\n",
       "    <tr>\n",
       "      <th>583280</th>\n",
       "      <td>Официальный представитель Пентагона Патрик Рай...</td>\n",
       "      <td>Официальный представитель Пентагона Патрик Рай...</td>\n",
       "      <td>Раскрыты данные о состоянии здоровья шефа Пент...</td>\n",
       "      <td>2024-01-10T23:57:00+03:00</td>\n",
       "      <td>['Политика', 'Мир']</td>\n",
       "      <td>https://lenta.ru/parts/authors/sovina/</td>\n",
       "      <td>https://lenta.ru/news/2024/01/10/austin/</td>\n",
       "    </tr>\n",
       "  </tbody>\n",
       "</table>\n",
       "<p>583281 rows × 7 columns</p>\n",
       "</div>"
      ],
      "text/plain": [
       "                                                  content  \\\n",
       "0       Президент Гильдии киноведов и кинокритиков Рос...   \n",
       "1       В Парке Горького в Москве обрушился мост с люд...   \n",
       "2       Определена причина обрушения моста над катком ...   \n",
       "3       Ведущий украинского комедийного шоу «Вечерний ...   \n",
       "4       Вооруженный ножом мужчина ранил трех человек н...   \n",
       "...                                                   ...   \n",
       "583276  Лидер фракции партии «Слуга народа» в Верховно...   \n",
       "583277  Министр сельского и лесного хозяйства Финлянди...   \n",
       "583278  Официальный представитель МИД России Мария Зах...   \n",
       "583279  Планы Молдавии оказать содействие в подготовке...   \n",
       "583280  Официальный представитель Пентагона Патрик Рай...   \n",
       "\n",
       "                                              description  \\\n",
       "0       Президент Гильдии киноведов и кинокритиков Рос...   \n",
       "1       В Парке Горького в Москве обрушился мост с люд...   \n",
       "2       Обрушение моста над катком в Парке Горького в ...   \n",
       "3       Ведущий украинского комедийного шоу «Вечерний ...   \n",
       "4       Вооруженный ножом мужчина ранил трех человек н...   \n",
       "...                                                   ...   \n",
       "583276  Глава фракции партии «Слуга народа» в Верховно...   \n",
       "583277  Министр сельского и лесного хозяйства Финлянди...   \n",
       "583278  Официальный представитель МИД России Мария Зах...   \n",
       "583279  В МИД России заявили, что планы Молдавии оказа...   \n",
       "583280  Официальный представитель Пентагона Патрик Рай...   \n",
       "\n",
       "                                                    title  \\\n",
       "0               Назван главный российский фильм 2018 года   \n",
       "1                В Парке Горького обрушился мост с людьми   \n",
       "2       Определена причина обрушения моста в Парке Гор...   \n",
       "3        Украинский комик поборется за президентский пост   \n",
       "4                Трех британцев порезали ножом на вокзале   \n",
       "...                                                   ...   \n",
       "583276  На Украине опровергли отправку на доработку за...   \n",
       "583277  Финляндия продлила закрытие границы с Россией ...   \n",
       "583278  Захарова назвала лицемерием подготовку Украины...   \n",
       "583279     МИД России вызвал посла Молдавии из-за Украины   \n",
       "583280  Раскрыты данные о состоянии здоровья шефа Пент...   \n",
       "\n",
       "                      publishedAt                  categories  \\\n",
       "0       2019-01-01T00:42:50+03:00        ['Кино', 'Культура']   \n",
       "1       2019-01-01T00:54:00+03:00  ['Происшествия', 'Россия']   \n",
       "2       2019-01-01T01:30:00+03:00  ['Происшествия', 'Россия']   \n",
       "3       2019-01-01T02:12:28+03:00  ['Украина', 'Бывший СССР']   \n",
       "4       2019-01-01T03:11:00+03:00     ['Происшествия', 'Мир']   \n",
       "...                           ...                         ...   \n",
       "583276  2024-01-10T23:10:00+03:00  ['Украина', 'Бывший СССР']   \n",
       "583277  2024-01-10T23:35:00+03:00      ['Мир', 'Путешествия']   \n",
       "583278  2024-01-10T23:41:00+03:00         ['Политика', 'Мир']   \n",
       "583279  2024-01-10T23:42:00+03:00         ['Политика', 'Мир']   \n",
       "583280  2024-01-10T23:57:00+03:00         ['Политика', 'Мир']   \n",
       "\n",
       "                                    authorLink  \\\n",
       "0                            https://lenta.ru/   \n",
       "1                            https://lenta.ru/   \n",
       "2                            https://lenta.ru/   \n",
       "3                            https://lenta.ru/   \n",
       "4                            https://lenta.ru/   \n",
       "...                                        ...   \n",
       "583276  https://lenta.ru/parts/authors/sovina/   \n",
       "583277  https://lenta.ru/parts/authors/sovina/   \n",
       "583278  https://lenta.ru/parts/authors/sovina/   \n",
       "583279  https://lenta.ru/parts/authors/sovina/   \n",
       "583280  https://lenta.ru/parts/authors/sovina/   \n",
       "\n",
       "                                                      url  \n",
       "0                  https://lenta.ru/news/2019/01/01/film/  \n",
       "1                  https://lenta.ru/news/2019/01/01/most/  \n",
       "2                https://lenta.ru/news/2019/01/01/most_2/  \n",
       "3             https://lenta.ru/news/2019/01/01/zelenskiy/  \n",
       "4                 https://lenta.ru/news/2019/01/01/knife/  \n",
       "...                                                   ...  \n",
       "583276        https://lenta.ru/news/2024/01/10/arahamia_/  \n",
       "583277           https://lenta.ru/news/2024/01/10/border/  \n",
       "583278  https://lenta.ru/news/2024/01/10/zaharova-nazv...  \n",
       "583279        https://lenta.ru/news/2024/01/10/moldavia_/  \n",
       "583280           https://lenta.ru/news/2024/01/10/austin/  \n",
       "\n",
       "[583281 rows x 7 columns]"
      ]
     },
     "execution_count": 3,
     "metadata": {},
     "output_type": "execute_result"
    }
   ],
   "source": [
    "df"
   ]
  },
  {
   "cell_type": "code",
   "execution_count": 4,
   "id": "65f61b37-a44b-403b-9bbf-7ca88f2d12e3",
   "metadata": {},
   "outputs": [],
   "source": [
    "topics = df['categories'].copy()\n"
   ]
  },
  {
   "cell_type": "code",
   "execution_count": null,
   "id": "f415d445-b02f-48dc-bebe-a44f136a15ec",
   "metadata": {},
   "outputs": [],
   "source": [
    "t = topics.apply(lambda x: x.split('\\''))"
   ]
  },
  {
   "cell_type": "code",
   "execution_count": null,
   "id": "d157eff3-9bb8-41c7-bb70-3d8cfb181e77",
   "metadata": {},
   "outputs": [],
   "source": [
    "t"
   ]
  },
  {
   "cell_type": "code",
   "execution_count": null,
   "id": "602ebb08-12fb-4323-83df-7dbebdef1aa8",
   "metadata": {},
   "outputs": [],
   "source": [
    "seps = ['[', ']', ' ', ', ']"
   ]
  },
  {
   "cell_type": "code",
   "execution_count": null,
   "id": "1b25e6c9-5fbe-4f69-98cc-9022ee84e492",
   "metadata": {},
   "outputs": [],
   "source": [
    "def remove_excess_categories(x):\n",
    "    x = x.split('\\'')\n",
    "    for s in x:\n",
    "        if s in seps:\n",
    "            x.remove(s)\n",
    "    return x[-1]"
   ]
  },
  {
   "cell_type": "code",
   "execution_count": null,
   "id": "faef1c82-d11b-42b8-a233-51325ce5be6a",
   "metadata": {},
   "outputs": [],
   "source": [
    "new_df = df.copy()"
   ]
  },
  {
   "cell_type": "code",
   "execution_count": null,
   "id": "a28213f5-086d-4234-ba37-1bd460d885d5",
   "metadata": {},
   "outputs": [],
   "source": [
    "new_df['categories'] = new_df['categories'].apply(remove_excess_categories)"
   ]
  },
  {
   "cell_type": "code",
   "execution_count": null,
   "id": "b460555c-7bc1-491e-828f-b20b5ea3cef3",
   "metadata": {},
   "outputs": [],
   "source": [
    "new_df['categories'].value_counts()"
   ]
  },
  {
   "cell_type": "code",
   "execution_count": null,
   "id": "76f9c7ab-319a-4740-827f-ed35db4de54d",
   "metadata": {},
   "outputs": [],
   "source": [
    "main_categories =  ['Россия', 'Мир', 'Экономика',  'Спорт', 'Наука и техника', \n",
    "           'Культура', 'Путешествия', 'Моя страна', 'Нацпроекты']"
   ]
  },
  {
   "cell_type": "code",
   "execution_count": null,
   "id": "7411fe4b-4cd6-4714-92f0-eab5d71ee8a8",
   "metadata": {},
   "outputs": [],
   "source": [
    "#Удаляем всё что не main"
   ]
  },
  {
   "cell_type": "code",
   "execution_count": null,
   "id": "9ae3e58c-8298-4bd7-a029-ca60870d5826",
   "metadata": {},
   "outputs": [],
   "source": [
    "new_df['to_drop'] = new_df['categories'].copy().apply(lambda x: True if x in main_categories else False)\n",
    "new_df = new_df[new_df['to_drop'] == True]\n",
    "new_df = new_df.drop(['to_drop'], axis=1)"
   ]
  },
  {
   "cell_type": "code",
   "execution_count": null,
   "id": "4d7beb34-953c-47e3-9f0e-f6b32aedfc69",
   "metadata": {},
   "outputs": [],
   "source": [
    "# чтобы обьединить одну категорию с другой\n",
    "# dest - та к которой присоединяяем, source - та которую присоединяют\n",
    "def unite_categories(x, source, dest):\n",
    "    if x == source:\n",
    "        x = dest\n",
    "    return x"
   ]
  },
  {
   "cell_type": "code",
   "execution_count": null,
   "id": "67437a05-abea-4ed1-94d4-eb7e90c7a4ab",
   "metadata": {},
   "outputs": [],
   "source": [
    "new_df"
   ]
  },
  {
   "cell_type": "code",
   "execution_count": null,
   "id": "ed78370b-3d15-4a71-b8de-b09be29111b0",
   "metadata": {},
   "outputs": [],
   "source": [
    "new_df['categories'] = new_df['categories'].apply(lambda x: unite_categories(x, 'Моя страна', 'Россия'))\n",
    "new_df['categories'] = new_df['categories'].apply(lambda x: unite_categories(x, 'Нацпроекты', 'Россия'))"
   ]
  },
  {
   "cell_type": "code",
   "execution_count": null,
   "id": "8d49f663-0ff5-4abe-814a-2e99826756f0",
   "metadata": {},
   "outputs": [],
   "source": [
    "new_df['categories'].value_counts()"
   ]
  },
  {
   "cell_type": "code",
   "execution_count": null,
   "id": "acc64b10-a3df-45bf-8972-4bf0b875e511",
   "metadata": {},
   "outputs": [],
   "source": [
    "new_df.to_csv('lenta_news_cut.csv', encoding='utf8')"
   ]
  }
 ],
 "metadata": {
  "kernelspec": {
   "display_name": "Python 3 (ipykernel)",
   "language": "python",
   "name": "python3"
  },
  "language_info": {
   "codemirror_mode": {
    "name": "ipython",
    "version": 3
   },
   "file_extension": ".py",
   "mimetype": "text/x-python",
   "name": "python",
   "nbconvert_exporter": "python",
   "pygments_lexer": "ipython3",
   "version": "3.11.8"
  }
 },
 "nbformat": 4,
 "nbformat_minor": 5
}
